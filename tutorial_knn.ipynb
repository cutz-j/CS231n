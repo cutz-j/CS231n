{
 "cells": [
  {
   "cell_type": "code",
   "execution_count": null,
   "metadata": {},
   "outputs": [],
   "source": [
    "import numpy as np\n",
    "import pandas as pd\n",
    "import sklearn.neighbors as neg\n",
    "# import data_utils as ut\n",
    "\n",
    "np.random.seed(777)\n",
    "\n",
    "def unpickle(file):\n",
    "    import pickle\n",
    "    with open(file, 'rb') as fo:\n",
    "        dict1 = pickle.load(fo, encoding='bytes')\n",
    "    return dict1\n",
    "\n",
    "\n",
    "Xtr, Ytr, Xte, Yte = ut.load_CIFAR10('e:/CS231n/data/')\n",
    "Xtr_rows = Xtr.reshape(Xtr.shape[0], 32*32*3)\n",
    "Xte_rows = Xte.reshape(Xte.shape[0], 32*32*3)\n",
    "\n",
    "Xte_cv = Xte_rows[:5000]\n",
    "Yte_cv = Yte[:5000]\n",
    "Xte_test = Xte_rows[5000:]\n",
    "Yte_test = Yte[5000:]\n",
    "\n",
    "# nn = neg.KNeighborsClassifier(n_neighbors=3, metric='manhattan', p=1)\n",
    "nn.fit(Xtr_rows, Ytr)\n",
    "yhat = nn.predict(Xte_cv)\n",
    "\n",
    "print('acc: %f' % (np.mean(Yte_cv == yhat)))\n",
    "\n",
    "class NearestNeighbor(object):\n",
    "    ## 자체 함수 ##\n",
    "    def __init__(self):\n",
    "        pass\n",
    "    \n",
    "    def train(self, X, y):\n",
    "        ## lazy learner !! ##\n",
    "        self.Xtr = X\n",
    "        self.ytr = y\n",
    "        \n",
    "    def predict(self, X):\n",
    "        num_test = X.shape[0]\n",
    "        Y_hat = np.zeros(num_test, dtype=self.ytr.dtype)\n",
    "        \n",
    "        ## l1 (manhattan)\n",
    "        for i in range(num_test):\n",
    "            dist = np.sum(np.abs(self.Xtr - X[i, :]), axis=1)\n",
    "            l2_dist = np.sqrt(np.sum(np.square(self.Xtr - X[i, :]), axis=1))\n",
    "            min_idx = np.argmin(dist)\n",
    "            Y_hat[i] = self.Ytr[min_idx]\n",
    "        \n",
    "        return Y_hat"
   ]
  },
  {
   "cell_type": "code",
   "execution_count": 4,
   "metadata": {},
   "outputs": [
    {
     "data": {
      "text/plain": [
       "[1, 1, 2, 3, 6, 8, 10]"
      ]
     },
     "execution_count": 4,
     "metadata": {},
     "output_type": "execute_result"
    }
   ],
   "source": [
    "### Tutorial ###\n",
    "\n",
    "def quicksort(arr):\n",
    "    if len(arr) <= 1:\n",
    "        return arr\n",
    "    \n",
    "    pivot = arr[int(len(arr) / 2)]\n",
    "    left = [x for x in arr if x < pivot]\n",
    "    middle = [x for x in arr if x == pivot]\n",
    "    right = [x for x in arr if x > pivot]\n",
    "    return quicksort(left) + middle + quicksort(right)\n",
    "\n",
    "quicksort([3,6,8,10,1,2,1])"
   ]
  },
  {
   "cell_type": "code",
   "execution_count": 8,
   "metadata": {},
   "outputs": [
    {
     "name": "stdout",
     "output_type": "stream",
     "text": [
      "Abc\n",
      "ABC\n",
      "    abc\n"
     ]
    }
   ],
   "source": [
    "a = \"abc\"\n",
    "print(a.capitalize())\n",
    "print(a.upper())\n",
    "print(a.rjust(7))"
   ]
  },
  {
   "cell_type": "code",
   "execution_count": 10,
   "metadata": {},
   "outputs": [
    {
     "name": "stdout",
     "output_type": "stream",
     "text": [
      "1: cat\n",
      "2: dog\n",
      "3: monkey\n"
     ]
    },
    {
     "data": {
      "text/plain": [
       "<enumerate at 0x288fbde97e0>"
      ]
     },
     "execution_count": 10,
     "metadata": {},
     "output_type": "execute_result"
    }
   ],
   "source": [
    "## enumerate ##\n",
    "animals = ['cat', 'dog', 'monkey']\n",
    "for idx, animal in enumerate(animals):\n",
    "    print(\"%d: %s\" %(idx+1, animal))\n",
    "enumerate(animals)"
   ]
  },
  {
   "cell_type": "code",
   "execution_count": 11,
   "metadata": {},
   "outputs": [
    {
     "data": {
      "text/plain": [
       "[1, 4, 9, 16, 25]"
      ]
     },
     "execution_count": 11,
     "metadata": {},
     "output_type": "execute_result"
    }
   ],
   "source": [
    "## comprehension ##\n",
    "sq = [x ** 2 for x in [1,2,3,4,5]]\n",
    "sq"
   ]
  },
  {
   "cell_type": "code",
   "execution_count": 12,
   "metadata": {},
   "outputs": [
    {
     "name": "stdout",
     "output_type": "stream",
     "text": [
      "hello\n",
      "HELLO\n"
     ]
    }
   ],
   "source": [
    "## class ##\n",
    "class Greeter(object):\n",
    "    def __init__(self, name):\n",
    "        self.name = name\n",
    "    \n",
    "    def greet(self, loud=False):\n",
    "        if loud:\n",
    "            print(\"hello\".upper())\n",
    "        else:\n",
    "            print(\"hello\")\n",
    "\n",
    "g = Greeter('Fred') ## init 생성자함수 실행 --> 인스턴스 생성\n",
    "g.greet()\n",
    "g.greet(loud=True)"
   ]
  },
  {
   "cell_type": "code",
   "execution_count": 21,
   "metadata": {},
   "outputs": [
    {
     "name": "stdout",
     "output_type": "stream",
     "text": [
      "[[ 5. 12.]\n",
      " [21. 32.]]\n",
      "[[ 5. 12.]\n",
      " [21. 32.]]\n",
      "[[19. 22.]\n",
      " [43. 50.]]\n",
      "[[19. 22.]\n",
      " [43. 50.]]\n"
     ]
    }
   ],
   "source": [
    "## numpy array operation ##\n",
    "import numpy as np\n",
    "\n",
    "x = np.array([[1,2], [3,4]], dtype=np.float32)\n",
    "y = np.array([[5,6],[7,8]], dtype=np.float32)\n",
    "\n",
    "print(np.multiply(x,y)) # element-wise product\n",
    "print(x * y)\n",
    "print(np.dot(x, y)) #dot-product or matrix multiplication\n",
    "print(np.matmul(x,y))"
   ]
  },
  {
   "cell_type": "code",
   "execution_count": 26,
   "metadata": {},
   "outputs": [
    {
     "name": "stdout",
     "output_type": "stream",
     "text": [
      "[4. 6.]\n",
      "[3. 7.]\n"
     ]
    }
   ],
   "source": [
    "# np.sum #\n",
    "print(np.sum(x, axis=0))\n",
    "print(np.sum(x, axis=1).T)"
   ]
  },
  {
   "cell_type": "code",
   "execution_count": 6,
   "metadata": {},
   "outputs": [
    {
     "name": "stdout",
     "output_type": "stream",
     "text": [
      "uint8 (250, 250, 3)\n"
     ]
    },
    {
     "name": "stderr",
     "output_type": "stream",
     "text": [
      "C:\\ProgramData\\Anaconda3\\lib\\site-packages\\ipykernel_launcher.py:5: DeprecationWarning: `imread` is deprecated!\n",
      "`imread` is deprecated in SciPy 1.0.0, and will be removed in 1.2.0.\n",
      "Use ``imageio.imread`` instead.\n",
      "  \"\"\"\n",
      "C:\\ProgramData\\Anaconda3\\lib\\site-packages\\ipykernel_launcher.py:8: DeprecationWarning: `imresize` is deprecated!\n",
      "`imresize` is deprecated in SciPy 1.0.0, and will be removed in 1.2.0.\n",
      "Use ``skimage.transform.resize`` instead.\n",
      "  \n"
     ]
    }
   ],
   "source": [
    "### scipy ###\n",
    "import scipy as sp\n",
    "from scipy.misc import imread, imsave, imresize\n",
    "\n",
    "img = imread(\"E:/data/JPG/picture1.jpg\")\n",
    "print(img.dtype, img.shape)\n",
    "img_tinted = img * [1, 0.95, 0.9] # rgb 연산 (broadcasting)\n",
    "img_resize = imresize(img_tinted, (300, 300))\n"
   ]
  },
  {
   "cell_type": "code",
   "execution_count": 10,
   "metadata": {},
   "outputs": [
    {
     "data": {
      "text/plain": [
       "array([[0.        , 1.41421356, 2.23606798],\n",
       "       [1.41421356, 0.        , 1.        ],\n",
       "       [2.23606798, 1.        , 0.        ]])"
      ]
     },
     "execution_count": 10,
     "metadata": {},
     "output_type": "execute_result"
    }
   ],
   "source": [
    "import numpy as np\n",
    "from scipy.spatial.distance import pdist, squareform\n",
    "\n",
    "x = np.array([[0,1], [1,0], [2,0]])\n",
    "d = squareform(pdist(x, 'euclidean'))\n",
    "d"
   ]
  },
  {
   "cell_type": "code",
   "execution_count": 17,
   "metadata": {},
   "outputs": [
    {
     "data": {
      "image/png": "[encoded data removed]",
      "text/plain": [
       "<Figure size 432x288 with 2 Axes>"
      ]
     },
     "metadata": {},
     "output_type": "display_data"
    }
   ],
   "source": [
    "### matplotlib ###\n",
    "import matplotlib.pyplot as plt\n",
    "\n",
    "x = np.arange(0, 4*np.pi, 0.1) # 주기2\n",
    "sin = np.sin(x)\n",
    "cos = np.cos(x)\n",
    "\n",
    "plt.subplot(2, 1, 1) # 높이가 2, 너비가 1, plot num 1\n",
    "plt.plot(x, sin)\n",
    "plt.title('Sine')\n",
    "plt.subplot(2, 1, 2) #높이가 2, 너비가 1, plot num 2\n",
    "plt.plot(x, cos)\n",
    "plt.title('Cosine')\n",
    "plt.show()"
   ]
  }
 ],
 "metadata": {
  "kernelspec": {
   "display_name": "Python 3",
   "language": "python",
   "name": "python3"
  },
  "language_info": {
   "codemirror_mode": {
    "name": "ipython",
    "version": 3
   },
   "file_extension": ".py",
   "mimetype": "text/x-python",
   "name": "python",
   "nbconvert_exporter": "python",
   "pygments_lexer": "ipython3",
   "version": "3.6.5"
  },
  "toc": {
   "base_numbering": 1,
   "nav_menu": {},
   "number_sections": true,
   "sideBar": true,
   "skip_h1_title": false,
   "title_cell": "Table of Contents",
   "title_sidebar": "Contents",
   "toc_cell": false,
   "toc_position": {},
   "toc_section_display": true,
   "toc_window_display": false
  }
 },
 "nbformat": 4,
 "nbformat_minor": 2
}
